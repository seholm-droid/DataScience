{
 "cells": [
  {
   "cell_type": "markdown",
   "id": "ac6858f6",
   "metadata": {},
   "source": [
    "## Data Science: Final Project\n",
    "* [Task 1: Balancing the Dataset](#first-bullet)\n"
   ]
  },
  {
   "cell_type": "code",
   "execution_count": 2,
   "id": "d55cab26",
   "metadata": {},
   "outputs": [],
   "source": [
    "import psycopg2\n",
    "import pandas as pd\n",
    "from sklearn.model_selection import train_test_split\n",
    "from sklearn.linear_model import LogisticRegression\n",
    "from sklearn.feature_extraction.text import CountVectorizer, TfidfVectorizer\n",
    "from sklearn.naive_bayes import BernoulliNB\n",
    "from sklearn import svm\n",
    "import sys\n",
    "import time\n",
    "from sklearn.metrics import confusion_matrix, classification_report\n",
    "from sklearn.feature_selection import SelectKBest, chi2\n",
    "from sklearn.exceptions import ConvergenceWarning\n",
    "import seaborn as sns\n",
    "import matplotlib.pyplot as plt\n",
    "from sklearn.neural_network import MLPClassifier\n",
    "from sklearn.feature_selection import SelectPercentile\n",
    "from sklearn.feature_selection import SelectKBest"
   ]
  },
  {
   "cell_type": "markdown",
   "id": "513b3af0",
   "metadata": {},
   "source": [
    "### Task 1: Knowing our Data"
   ]
  },
  {
   "cell_type": "code",
   "execution_count": 2,
   "id": "4d61d960",
   "metadata": {},
   "outputs": [
    {
     "name": "stdout",
     "output_type": "stream",
     "text": [
      "        Unnamed: 0      id              domain        type  \\\n",
      "0                0  694410        dailykos.com   political   \n",
      "1                1  694411        dailykos.com   political   \n",
      "2                2  694412        dailykos.com   political   \n",
      "3                3  694413  www.emptywheel.net         NaN   \n",
      "4                4  694414        ecowatch.com   political   \n",
      "...            ...     ...                 ...         ...   \n",
      "999929       99995  238423      wikispooks.com  conspiracy   \n",
      "999930       99996  238424      wikispooks.com  conspiracy   \n",
      "999931       99997  238425      wikispooks.com  conspiracy   \n",
      "999932       99998  238426      wikispooks.com  conspiracy   \n",
      "999933       99999  238427      wikispooks.com  conspiracy   \n",
      "\n",
      "                                                      url  \\\n",
      "0       https://www.dailykos.com/stories/2011/12/27/10...   \n",
      "1       https://www.dailykos.com/stories/2011/10/14/10...   \n",
      "2       https://www.dailykos.com/stories/2011/10/5/102...   \n",
      "3       https://www.emptywheel.net/2015/05/22/comeys-e...   \n",
      "4       https://www.ecowatch.com/clever-interactive-vi...   \n",
      "...                                                   ...   \n",
      "999929  https://wikispooks.com/wiki/Special:Browse/Sha...   \n",
      "999930  https://wikispooks.com/wiki/Special:Browse/Sha...   \n",
      "999931  https://wikispooks.com/wiki/Special:Browse/Sha...   \n",
      "999932     https://wikispooks.com/wiki/Special:Browse/FSB   \n",
      "999933  https://wikispooks.com/wiki/Special:Browse/Mos...   \n",
      "\n",
      "                                                  content  \\\n",
      "0       face massiv public boycott support stop onlin ...   \n",
      "1       meet jerri . 's leav us yet , ca n't snap narr...   \n",
      "2       robert weiner , former white hous spokesman ch...   \n",
      "3       number outlet report , appear wednesday george...   \n",
      "4       cowri collect member particip time bank market...   \n",
      "...                                                   ...   \n",
      "999929  `` queri depth '' predefin properti inform dep...   \n",
      "999930  `` queri depth '' predefin properti inform dep...   \n",
      "999931  `` queri depth '' predefin properti inform dep...   \n",
      "999932  `` improp valu '' predefin properti track inpu...   \n",
      "999933  `` queri '' predefin properti repres meta info...   \n",
      "\n",
      "                        scraped_at                 inserted_at  \\\n",
      "0       2018-01-25 20:13:50.426130  2018-02-02 01:19:41.756632   \n",
      "1       2018-01-25 20:13:50.426130  2018-02-02 01:19:41.756632   \n",
      "2       2018-01-25 20:13:50.426130  2018-02-02 01:19:41.756632   \n",
      "3       2018-01-25 20:13:50.426130  2018-02-02 01:19:41.756632   \n",
      "4       2018-01-25 20:13:50.426130  2018-02-02 01:19:41.756632   \n",
      "...                            ...                         ...   \n",
      "999929  2018-01-25 20:13:50.426130  2018-02-02 01:19:41.756632   \n",
      "999930  2018-01-25 20:13:50.426130  2018-02-02 01:19:41.756632   \n",
      "999931  2018-01-25 20:13:50.426130  2018-02-02 01:19:41.756632   \n",
      "999932  2018-01-25 20:13:50.426130  2018-02-02 01:19:41.756632   \n",
      "999933  2018-01-25 20:13:50.426130  2018-02-02 01:19:41.756632   \n",
      "\n",
      "                        updated_at  \\\n",
      "0       2018-02-02 01:19:41.756664   \n",
      "1       2018-02-02 01:19:41.756664   \n",
      "2       2018-02-02 01:19:41.756664   \n",
      "3       2018-02-02 01:19:41.756664   \n",
      "4       2018-02-02 01:19:41.756664   \n",
      "...                            ...   \n",
      "999929  2018-02-02 01:19:41.756664   \n",
      "999930  2018-02-02 01:19:41.756664   \n",
      "999931  2018-02-02 01:19:41.756664   \n",
      "999932  2018-02-02 01:19:41.756664   \n",
      "999933  2018-02-02 01:19:41.756664   \n",
      "\n",
      "                                                    title  \\\n",
      "0       Anti-censorship momentum: GoDaddy also says it...   \n",
      "1           Pawnthink and the Power of Personal Narrative   \n",
      "2       Will an overtly political Supreme Court end th...   \n",
      "3       Comey’s Emphasis on Expiring PATRIOT Provision...   \n",
      "4       Clever Interactive Video Encourages Americans ...   \n",
      "...                                                   ...   \n",
      "999929                           Shadow Foreign Secretary   \n",
      "999930                           Shadow Foreign Secretary   \n",
      "999931                           Shadow Foreign Secretary   \n",
      "999932                                                FSB   \n",
      "999933                            Moscow State University   \n",
      "\n",
      "                                                  authors  keywords  \\\n",
      "0       Backgroundurl Avatar_Large, Nickname, Joined, ...       NaN   \n",
      "1       Backgroundurl Avatar_Large, Nickname, Joined, ...       NaN   \n",
      "2       Backgroundurl Avatar_Large, Nickname, Joined, ...       NaN   \n",
      "3                                        Bay State Librul       NaN   \n",
      "4       Anastasia Pantsios, Yes, The Conversation, Lor...       NaN   \n",
      "...                                                   ...       ...   \n",
      "999929                                                NaN       NaN   \n",
      "999930                                                NaN       NaN   \n",
      "999931                                                NaN       NaN   \n",
      "999932                                                NaN       NaN   \n",
      "999933                                                NaN       NaN   \n",
      "\n",
      "                                            meta_keywords  \\\n",
      "0                                                    ['']   \n",
      "1                                                    ['']   \n",
      "2                                                    ['']   \n",
      "3                                                    ['']   \n",
      "4       ['business', 'nuclear', 'energy', 'coal', 'fea...   \n",
      "...                                                   ...   \n",
      "999929                                               ['']   \n",
      "999930                                               ['']   \n",
      "999931                                               ['']   \n",
      "999932                                               ['']   \n",
      "999933                                               ['']   \n",
      "\n",
      "                                         meta_description  \\\n",
      "0                                                     NaN   \n",
      "1                                                     NaN   \n",
      "2                                                     NaN   \n",
      "3                                                     NaN   \n",
      "4       Nuclear energy doesn't produce the same climat...   \n",
      "...                                                   ...   \n",
      "999929                                                NaN   \n",
      "999930                                                NaN   \n",
      "999931                                                NaN   \n",
      "999932                                                NaN   \n",
      "999933                                                NaN   \n",
      "\n",
      "                                                     tags  summary  source  \n",
      "0                                                     NaN      NaN     NaN  \n",
      "1                                                     NaN      NaN     NaN  \n",
      "2                                                     NaN      NaN     NaN  \n",
      "3                                         Jim Comey, FISA      NaN     NaN  \n",
      "4       ocean, coral reefs, offshore oil and gas drill...      NaN     NaN  \n",
      "...                                                   ...      ...     ...  \n",
      "999929                                                NaN      NaN     NaN  \n",
      "999930                                                NaN      NaN     NaN  \n",
      "999931                                                NaN      NaN     NaN  \n",
      "999932                                                NaN      NaN     NaN  \n",
      "999933                                                NaN      NaN     NaN  \n",
      "\n",
      "[999934 rows x 17 columns]\n"
     ]
    },
    {
     "name": "stderr",
     "output_type": "stream",
     "text": [
      "C:\\Users\\DavidAndreasSeiler-H\\AppData\\Local\\Temp\\ipykernel_28496\\1879596140.py:12: FutureWarning: The frame.append method is deprecated and will be removed from pandas in a future version. Use pandas.concat instead.\n",
      "  all_news = corpus_news.append(scraped_news)\n"
     ]
    }
   ],
   "source": [
    "# Reading the fake news corpus\n",
    "corpus_news = pd.read_csv('cleaned.csv')\n",
    "print(corpus_news)\n",
    "corpus_news = corpus_news[['content', 'type']].drop_duplicates().dropna(axis = 0, how = 'any')\n",
    "\n",
    "\n",
    "# Reading the scraped data\n",
    "scraped_news = pd.read_csv('cleaned_scraped_data.csv')\n",
    "scraped_news = scraped_news[['content','type']].drop_duplicates().dropna(axis = 0, how = 'any')\n",
    "\n",
    "# Mergin' the data (We need to clean the scraped news as welL!)\n",
    "all_news = corpus_news.append(scraped_news)"
   ]
  },
  {
   "cell_type": "code",
   "execution_count": 3,
   "id": "6c457371",
   "metadata": {},
   "outputs": [
    {
     "name": "stdout",
     "output_type": "stream",
     "text": [
      "Classifications: 620053\n",
      "\n"
     ]
    },
    {
     "data": {
      "image/png": "[encoded data removed]",
      "text/plain": [
       "<Figure size 432x288 with 1 Axes>"
      ]
     },
     "metadata": {
      "needs_background": "light"
     },
     "output_type": "display_data"
    }
   ],
   "source": [
    "# Visualisations\n",
    "data = corpus_news\n",
    "print(f'Classifications: {len(corpus_news)}')\n",
    "print()\n",
    "\n",
    "article_counts = data['type'].value_counts()\n",
    "article_pct = data['type'].value_counts(normalize=True).round(4)*100\n",
    "\n",
    "x = article_pct\n",
    "y = article_pct.index\n",
    "percentage = article_pct\n",
    "\n",
    "sns.set(rc={'axes.facecolor':'white', 'figure.facecolor':'white','figure.figsize':(11.7,8.27)})\n",
    "sns.set_palette('Reds', n_colors=None, desat=None, color_codes=False)\n",
    "\n",
    "palette = sns.color_palette(\"Blues\",n_colors=15)\n",
    "palette.reverse()\n",
    "\n",
    "ax = sns.barplot(x=x,y=y, palette = palette)\n",
    "patches = ax.patches\n",
    "ax.set(xlabel=None)\n",
    "\n",
    "for p in ax.patches:\n",
    "        percentage = '{:.1f}%'.format(100 * p.get_width()/100)\n",
    "        x = p.get_x() + p.get_width() + 0.02\n",
    "        y = p.get_y() + p.get_height()/2\n",
    "        ax.annotate(percentage, (x, y))\n",
    "sns.despine(bottom = True, left = False)\n",
    "ax.set(xticks=[])\n",
    "plt.show()"
   ]
  },
  {
   "cell_type": "markdown",
   "id": "f4126f89",
   "metadata": {},
   "source": [
    "#### Making news grouping\n",
    "We need to make two classification categories from 12 possible categories. There are several ways to do this. An obvious approach would be to put all types labeled fake in one category and everything else in another. What we care about is distinguishing between whether something is fake news or not. We do not not care about identifying e.g. hate articles, clickbait or junksci. We just use these types as examples of something that is not fake news even though these are also undeseriable article types on e.g. a news platform.We do not believe, that a classifier will be able to distinguish between satire and fake news, therefore we remove the satire articles entirely. \n",
    "\n",
    "#### Balancing the Dataset\n",
    "The handed out fake news dataset is imbalanced as the non fake news articles constitute almost twice as many articles (after filteren nans) than the rest of the data. Furthmore within the non-fake news data reliable articles only constitute a small percentage. Therefore we enrich this data with the scraped data and then we random remove articles from the non-fake news data to get the same amount of articles in each dataset. Here it is important to note, that we assume, that the wikinews articles are reliable. Going from an imbalanced to balanced dataset improves our baseline accuracy around"
   ]
  },
  {
   "cell_type": "code",
   "execution_count": 4,
   "id": "cfbbf719",
   "metadata": {},
   "outputs": [
    {
     "name": "stderr",
     "output_type": "stream",
     "text": [
      "C:\\Users\\DavidAndreasSeiler-H\\AppData\\Local\\Temp\\ipykernel_2436\\2426373765.py:17: FutureWarning: The frame.append method is deprecated and will be removed from pandas in a future version. Use pandas.concat instead.\n",
      "  all_news = not_fake_news.append(fake_news)\n"
     ]
    },
    {
     "name": "stdout",
     "output_type": "stream",
     "text": [
      "Length of not fake news: 110071\n",
      "Length of fake news: 110071\n",
      "Length of all news: 220142\n"
     ]
    }
   ],
   "source": [
    "# Classifying types\n",
    "remove = ['unknown', 'satire']\n",
    "fake = ['fake']\n",
    "not_fake = ['political', 'reliable', 'bias', 'conspiracy', 'rumor', 'unreliable', 'clickbait', 'junksci', 'hate']\n",
    "\n",
    "all_news = all_news[~all_news['type'].isin(remove)]\n",
    "fake_news = all_news[all_news['type'].isin(fake)].copy()\n",
    "not_fake_news = all_news[all_news['type'].isin(not_fake)].copy()\n",
    "not_fake_news['type'] = 'not fake' \n",
    "\n",
    "# Number of articles in each set\n",
    "count_group_1 = len(fake_news)\n",
    "count_group_2 = len(not_fake_news)\n",
    "\n",
    "not_fake_news = not_fake_news.sample(n=count_group_1)\n",
    "\n",
    "all_news = not_fake_news.append(fake_news)\n",
    "all_news.to_csv('all_news.csv')\n",
    "\n",
    "print(f'Length of not fake news: {len(not_fake_news)}')\n",
    "print(f'Length of fake news: {len(fake_news)}')\n",
    "print(f'Length of all news: {len(all_news)}')"
   ]
  },
  {
   "cell_type": "markdown",
   "id": "47a5ffd8",
   "metadata": {},
   "source": [
    "#### Task 2: Establishing a Baseline\n",
    "Naive Bayes and logistic regression. SVM possibe using a linear kernel."
   ]
  },
  {
   "cell_type": "code",
   "execution_count": 12,
   "id": "9a151e80",
   "metadata": {},
   "outputs": [],
   "source": [
    "all_news = pd.read_csv('all_news.csv', nrows =1000)\n",
    "all_news['type'] = all_news['type'].map({'fake':1, 'not fake':0})\n",
    "\n",
    "x = all_news['content'].values\n",
    "y = all_news['type'].values\n",
    "x_train, x_test, y_train, y_test = train_test_split(x, y, test_size=0.30, random_state=1000)\n",
    "\n",
    "# Apply tfid vectorization\n",
    "vectorizer = CountVectorizer()\n",
    "vectorizer.fit(x_train)\n",
    "x_train = vectorizer.transform(x_train) #.toarray()\n",
    "x_test = vectorizer.transform(x_test)"
   ]
  },
  {
   "cell_type": "code",
   "execution_count": 17,
   "id": "5c189d71",
   "metadata": {},
   "outputs": [
    {
     "name": "stdout",
     "output_type": "stream",
     "text": [
      "Extracting 100 best features by a chi-squared test\n",
      "<class 'scipy.sparse._csr.csr_matrix'>\n"
     ]
    }
   ],
   "source": [
    "#Feature Selection \n",
    "\n",
    "SELECT_CHI2 = int(len(all_news)*0.10)\n",
    "print(\"Extracting %d best features by a chi-squared test\" % SELECT_CHI2)\n",
    "ch2 = SelectKBest(chi2, k=SELECT_CHI2)\n",
    "x_train = ch2.fit_transform(x_train, y_train)\n",
    "x_test = ch2.transform(x_test)\n",
    "print(type(x_train))"
   ]
  },
  {
   "cell_type": "code",
   "execution_count": 16,
   "id": "d1ee8650",
   "metadata": {},
   "outputs": [
    {
     "ename": "ValueError",
     "evalue": "This solver needs samples of at least 2 classes in the data, but the data contains only one class: 0",
     "output_type": "error",
     "traceback": [
      "\u001b[1;31m---------------------------------------------------------------------------\u001b[0m",
      "\u001b[1;31mValueError\u001b[0m                                Traceback (most recent call last)",
      "Input \u001b[1;32mIn [16]\u001b[0m, in \u001b[0;36m<cell line: 4>\u001b[1;34m()\u001b[0m\n\u001b[0;32m      2\u001b[0m classifier \u001b[38;5;241m=\u001b[39m LogisticRegression(max_iter \u001b[38;5;241m=\u001b[39m \u001b[38;5;241m1000\u001b[39m, penalty \u001b[38;5;241m=\u001b[39m\u001b[38;5;124m'\u001b[39m\u001b[38;5;124ml2\u001b[39m\u001b[38;5;124m'\u001b[39m) \u001b[38;5;66;03m# konvergensen er fin btw, vi har ikke store ændringer i vores fejl, når\u001b[39;00m\n\u001b[0;32m      3\u001b[0m \u001b[38;5;66;03m# vi ændrer i antallet af iterationer.\u001b[39;00m\n\u001b[1;32m----> 4\u001b[0m \u001b[43mclassifier\u001b[49m\u001b[38;5;241;43m.\u001b[39;49m\u001b[43mfit\u001b[49m\u001b[43m(\u001b[49m\u001b[43mx_train\u001b[49m\u001b[43m,\u001b[49m\u001b[43m \u001b[49m\u001b[43my_train\u001b[49m\u001b[43m)\u001b[49m\n\u001b[0;32m      5\u001b[0m score \u001b[38;5;241m=\u001b[39m classifier\u001b[38;5;241m.\u001b[39mscore(x_test, y_test)\n\u001b[0;32m      6\u001b[0m \u001b[38;5;28mprint\u001b[39m(\u001b[38;5;124mf\u001b[39m\u001b[38;5;124m'\u001b[39m\u001b[38;5;124mScore for logistic baseline: \u001b[39m\u001b[38;5;132;01m{\u001b[39;00mscore\u001b[38;5;132;01m}\u001b[39;00m\u001b[38;5;124m'\u001b[39m)\n",
      "File \u001b[1;32m~\\AppData\\Local\\Programs\\Python\\Python310\\lib\\site-packages\\sklearn\\linear_model\\_logistic.py:1183\u001b[0m, in \u001b[0;36mLogisticRegression.fit\u001b[1;34m(self, X, y, sample_weight)\u001b[0m\n\u001b[0;32m   1181\u001b[0m classes_ \u001b[38;5;241m=\u001b[39m \u001b[38;5;28mself\u001b[39m\u001b[38;5;241m.\u001b[39mclasses_\n\u001b[0;32m   1182\u001b[0m \u001b[38;5;28;01mif\u001b[39;00m n_classes \u001b[38;5;241m<\u001b[39m \u001b[38;5;241m2\u001b[39m:\n\u001b[1;32m-> 1183\u001b[0m     \u001b[38;5;28;01mraise\u001b[39;00m \u001b[38;5;167;01mValueError\u001b[39;00m(\n\u001b[0;32m   1184\u001b[0m         \u001b[38;5;124m\"\u001b[39m\u001b[38;5;124mThis solver needs samples of at least 2 classes\u001b[39m\u001b[38;5;124m\"\u001b[39m\n\u001b[0;32m   1185\u001b[0m         \u001b[38;5;124m\"\u001b[39m\u001b[38;5;124m in the data, but the data contains only one\u001b[39m\u001b[38;5;124m\"\u001b[39m\n\u001b[0;32m   1186\u001b[0m         \u001b[38;5;124m\"\u001b[39m\u001b[38;5;124m class: \u001b[39m\u001b[38;5;132;01m%r\u001b[39;00m\u001b[38;5;124m\"\u001b[39m\n\u001b[0;32m   1187\u001b[0m         \u001b[38;5;241m%\u001b[39m classes_[\u001b[38;5;241m0\u001b[39m]\n\u001b[0;32m   1188\u001b[0m     )\n\u001b[0;32m   1190\u001b[0m \u001b[38;5;28;01mif\u001b[39;00m \u001b[38;5;28mlen\u001b[39m(\u001b[38;5;28mself\u001b[39m\u001b[38;5;241m.\u001b[39mclasses_) \u001b[38;5;241m==\u001b[39m \u001b[38;5;241m2\u001b[39m:\n\u001b[0;32m   1191\u001b[0m     n_classes \u001b[38;5;241m=\u001b[39m \u001b[38;5;241m1\u001b[39m\n",
      "\u001b[1;31mValueError\u001b[0m: This solver needs samples of at least 2 classes in the data, but the data contains only one class: 0"
     ]
    }
   ],
   "source": [
    "# Logistic Regression for fake news prediction\n",
    "classifier = LogisticRegression(max_iter = 1000, penalty ='l2') # konvergensen er fin btw, vi har ikke store ændringer i vores fejl, når\n",
    "# vi ændrer i antallet af iterationer.\n",
    "classifier.fit(x_train, y_train)\n",
    "score = classifier.score(x_test, y_test)\n",
    "print(f'Score for logistic baseline: {score}')\n",
    "\n",
    "# Naive Bayes for fake news prediction\n",
    "gnb = BernoulliNB()\n",
    "gnb.fit(x_train, y_train)\n",
    "score = gnb.score(x_test, y_test)\n",
    "print(f'Score for naive Bayes baseline: {score}')\n",
    "\n",
    "# SVM for fake news prediction\n",
    "#svm = svm.SVC(kernel='linear')\n",
    "#svm.fit(x_train, y_train)\n",
    "#score = gnb.score(x_test, y_test)\n",
    "#print(f'Score for SVM baseline: {score}')"
   ]
  },
  {
   "cell_type": "code",
   "execution_count": 12,
   "id": "b32172b7",
   "metadata": {},
   "outputs": [
    {
     "data": {
      "text/html": [
       "<div>\n",
       "<style scoped>\n",
       "    .dataframe tbody tr th:only-of-type {\n",
       "        vertical-align: middle;\n",
       "    }\n",
       "\n",
       "    .dataframe tbody tr th {\n",
       "        vertical-align: top;\n",
       "    }\n",
       "\n",
       "    .dataframe thead th {\n",
       "        text-align: right;\n",
       "    }\n",
       "</style>\n",
       "<table border=\"1\" class=\"dataframe\">\n",
       "  <thead>\n",
       "    <tr style=\"text-align: right;\">\n",
       "      <th></th>\n",
       "      <th>0</th>\n",
       "      <th>1</th>\n",
       "    </tr>\n",
       "  </thead>\n",
       "  <tbody>\n",
       "    <tr>\n",
       "      <th>0</th>\n",
       "      <td>0.921533</td>\n",
       "      <td>0.022284</td>\n",
       "    </tr>\n",
       "    <tr>\n",
       "      <th>1</th>\n",
       "      <td>0.078467</td>\n",
       "      <td>0.977716</td>\n",
       "    </tr>\n",
       "  </tbody>\n",
       "</table>\n",
       "</div>"
      ],
      "text/plain": [
       "          0         1\n",
       "0  0.921533  0.022284\n",
       "1  0.078467  0.977716"
      ]
     },
     "execution_count": 12,
     "metadata": {},
     "output_type": "execute_result"
    }
   ],
   "source": [
    "# Confusion matrix\n",
    "y_pred = classifier.predict(x_test)\n",
    "cm = confusion_matrix(y_test, y_pred, labels=all_news['type'].unique())\n",
    "df_cm = pd.DataFrame(cm, index=all_news['type'].unique(), columns=all_news['type'].unique())\n",
    "\n",
    "df_cm_percentage = df_cm.copy()\n",
    "for i in df_cm_percentage:\n",
    "    df_cm_percentage[i]=df_cm_percentage[i]/df_cm_percentage[i].sum()\n",
    "df_cm_percentage "
   ]
  },
  {
   "cell_type": "markdown",
   "id": "8350efbc",
   "metadata": {},
   "source": [
    "#### Task 3: Creating a Fake News Predictor"
   ]
  },
  {
   "cell_type": "code",
   "execution_count": 94,
   "id": "46bbb413",
   "metadata": {
    "scrolled": true
   },
   "outputs": [
    {
     "name": "stderr",
     "output_type": "stream",
     "text": [
      "C:\\Users\\DavidAndreasSeiler-H\\AppData\\Local\\Programs\\Python\\Python310\\lib\\site-packages\\sklearn\\neural_network\\_multilayer_perceptron.py:559: ConvergenceWarning: lbfgs failed to converge (status=1):\n",
      "STOP: TOTAL NO. of ITERATIONS REACHED LIMIT.\n",
      "\n",
      "Increase the number of iterations (max_iter) or scale the data as shown in:\n",
      "    https://scikit-learn.org/stable/modules/preprocessing.html\n",
      "  self.n_iter_ = _check_optimize_result(\"lbfgs\", opt_res, self.max_iter)\n"
     ]
    },
    {
     "name": "stdout",
     "output_type": "stream",
     "text": [
      "0.9593143860817952\n"
     ]
    }
   ],
   "source": [
    "# Use another model and use k-fold cross validation\n",
    "# Support vector machine with (non-linear boundaries)\n",
    "#print(x_train)\n",
    "#sys.exit(2)\n",
    "\n",
    "clf = MLPClassifier(solver='lbfgs', alpha=1e-5,\n",
    "                     hidden_layer_sizes=(8,4), random_state=1,max_iter=100, activation = 'logistic')\n",
    "\n",
    "\"0,0,10,10\"\n",
    "\n",
    "clf.fit(x_train, y_train)\n",
    "\n",
    "score = clf.score(x_test, y_test)\n",
    "print(score)"
   ]
  },
  {
   "cell_type": "markdown",
   "id": "f460adea",
   "metadata": {},
   "source": [
    "a model with zero hidden layers will resolve linearly separable data. So unless you already know your data isn't linearly separable, it doesn't hurt to verify this--why use a more complex model than the task requires? If it is linearly separable then a simpler technique will work, but a Perceptron will do the job as well.\n",
    "\n",
    "HOW TO CHECK IF LINEAR SEPEARBAL??\n",
    "\n",
    "WHICH FEATURES TO ADD? \n",
    "\n",
    "Just guess baseline"
   ]
  },
  {
   "cell_type": "code",
   "execution_count": 95,
   "id": "092483e4",
   "metadata": {},
   "outputs": [
    {
     "data": {
      "text/html": [
       "<div>\n",
       "<style scoped>\n",
       "    .dataframe tbody tr th:only-of-type {\n",
       "        vertical-align: middle;\n",
       "    }\n",
       "\n",
       "    .dataframe tbody tr th {\n",
       "        vertical-align: top;\n",
       "    }\n",
       "\n",
       "    .dataframe thead th {\n",
       "        text-align: right;\n",
       "    }\n",
       "</style>\n",
       "<table border=\"1\" class=\"dataframe\">\n",
       "  <thead>\n",
       "    <tr style=\"text-align: right;\">\n",
       "      <th></th>\n",
       "      <th>0</th>\n",
       "      <th>1</th>\n",
       "    </tr>\n",
       "  </thead>\n",
       "  <tbody>\n",
       "    <tr>\n",
       "      <th>0</th>\n",
       "      <td>0.944159</td>\n",
       "      <td>0.02451</td>\n",
       "    </tr>\n",
       "    <tr>\n",
       "      <th>1</th>\n",
       "      <td>0.055841</td>\n",
       "      <td>0.97549</td>\n",
       "    </tr>\n",
       "  </tbody>\n",
       "</table>\n",
       "</div>"
      ],
      "text/plain": [
       "          0        1\n",
       "0  0.944159  0.02451\n",
       "1  0.055841  0.97549"
      ]
     },
     "execution_count": 95,
     "metadata": {},
     "output_type": "execute_result"
    }
   ],
   "source": [
    "y_pred = clf.predict(x_test)\n",
    "cm = confusion_matrix(y_test, y_pred, labels=all_news['type'].unique())\n",
    "df_cm = pd.DataFrame(cm, index=all_news['type'].unique(), columns=all_news['type'].unique())\n",
    "\n",
    "df_cm_percentage = df_cm.copy()\n",
    "for i in df_cm_percentage:\n",
    "    df_cm_percentage[i]=df_cm_percentage[i]/df_cm_percentage[i].sum()\n",
    "df_cm_percentage "
   ]
  },
  {
   "cell_type": "markdown",
   "id": "b9d03a2c",
   "metadata": {},
   "source": [
    "#### Task 4: Performance Beyond the Original Dataset"
   ]
  },
  {
   "cell_type": "code",
   "execution_count": 97,
   "id": "7b7ffb7a",
   "metadata": {},
   "outputs": [
    {
     "name": "stdout",
     "output_type": "stream",
     "text": [
      "10240\n",
      "0        1.0\n",
      "1        0.0\n",
      "2        0.0\n",
      "3        1.0\n",
      "4        0.0\n",
      "        ... \n",
      "10235    0.0\n",
      "10236    0.0\n",
      "10237    0.0\n",
      "10238    1.0\n",
      "10239    0.0\n",
      "Name: 1, Length: 10240, dtype: float64\n",
      "0.80498046875\n"
     ]
    }
   ],
   "source": [
    "# check om metoden her er korrekt\n",
    "liar_data = pd.read_csv('train.tsv', sep='\\t', header = None)\n",
    "print(len(liar_data))\n",
    "x_test = vectorizer.transform(liar_data[liar_data.columns[2]])\n",
    "y_test = liar_data[liar_data.columns[1]].map({'false':1}).replace(float('nan'),0)\n",
    "print(y_test)\n",
    "score = clf.score(x_test, y_test)\n",
    "print(score)"
   ]
  },
  {
   "cell_type": "code",
   "execution_count": 93,
   "id": "f02464c3",
   "metadata": {},
   "outputs": [
    {
     "data": {
      "text/plain": [
       "(154099, 413525)"
      ]
     },
     "execution_count": 93,
     "metadata": {},
     "output_type": "execute_result"
    }
   ],
   "source": [
    "x_train.shape"
   ]
  },
  {
   "cell_type": "code",
   "execution_count": null,
   "id": "5a8d8810",
   "metadata": {},
   "outputs": [],
   "source": []
  }
 ],
 "metadata": {
  "kernelspec": {
   "display_name": "Python 3 (ipykernel)",
   "language": "python",
   "name": "python3"
  },
  "language_info": {
   "codemirror_mode": {
    "name": "ipython",
    "version": 3
   },
   "file_extension": ".py",
   "mimetype": "text/x-python",
   "name": "python",
   "nbconvert_exporter": "python",
   "pygments_lexer": "ipython3",
   "version": "3.10.0"
  }
 },
 "nbformat": 4,
 "nbformat_minor": 5
}
